{
 "cells": [
  {
   "cell_type": "markdown",
   "id": "de2c827c",
   "metadata": {},
   "source": [
    "### Modificación del tamaño de un volúmen lógico\n",
    "\n",
    "Cuando los volúmenes físicos se utilizan para crear un volúmen de grupo, o un grupo de volúmenes, el espacio en disco se divide en extensiones, el tamaño mínimo de estas extensiones es de 4MB de forma predeterminada, una extensión, es la cantidad mínima por la cual el volúmen lógico puede aumentar o disminuir de tamaño. \n",
    "\n",
    "Un valor elevado de la extensión, 32MB o 64MB, no tiene un impacto en el rendimiento del volúmen lógico y se puede especificar con al opción **-s** al momento de crear el volúmen de grupo."
   ]
  }
 ],
 "metadata": {
  "kernelspec": {
   "display_name": "Python 3 (ipykernel)",
   "language": "python",
   "name": "python3"
  },
  "language_info": {
   "codemirror_mode": {
    "name": "ipython",
    "version": 3
   },
   "file_extension": ".py",
   "mimetype": "text/x-python",
   "name": "python",
   "nbconvert_exporter": "python",
   "pygments_lexer": "ipython3",
   "version": "3.9.7"
  }
 },
 "nbformat": 4,
 "nbformat_minor": 5
}
