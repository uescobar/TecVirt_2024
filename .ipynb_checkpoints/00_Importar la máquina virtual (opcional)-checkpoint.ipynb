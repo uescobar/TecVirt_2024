{
 "cells": [
  {
   "cell_type": "markdown",
   "id": "8855ef22",
   "metadata": {},
   "source": [
    "# Importar la máquina virtual\n",
    "\n",
    "Abrir Virtual Box y dar clic en el botón de importar\n",
    "\n",
    "![01](00_img/01.png)\n",
    "\n",
    "Seleccionar el archivo **lvm1.ova** y dar presionar el botón siguiente (next)\n",
    "\n",
    "![02](00_img/02.png)\n",
    "\n",
    "Revisar las opciones importación sin cambiar nada y dar clic en la opción importar (import)\n",
    "\n",
    "![03](00_img/03.png)\n",
    "\n",
    "Comienza la importación\n",
    "\n",
    "![04](00_img/04.png)\n",
    "\n",
    "Una vez finalizada la importación, aparece en el lado izquierdo la maquina virtual denominada **lvm1** y en el panel derecho, al final, podrá observar la descripción con información importante sobre dirección ip a usar o información de los usuarios y contraseñas usados.\n",
    "\n",
    "![05](00_img/05.png)\n",
    "\n",
    "\n",
    "Podrá cambiar el nombre de la máquina virtual dando clic en el botón **Configuracion** (Settings) y eligiendo un nuevo nombre.\n",
    "\n",
    "![06](00_img/06.png)\n",
    "\n",
    "Posterior al cambio de nombre (que se realiza de manera opcional), deberá encender la máquina virtual con el botón **Iniciar** (Start)\n",
    "\n",
    "![07](00_img/07.png)\n",
    "\n",
    "A continuación se muestra la máquina virtual en ejecución\n",
    "\n",
    "![08](00_img/08.png)"
   ]
  }
 ],
 "metadata": {
  "kernelspec": {
   "display_name": "Python 3 (ipykernel)",
   "language": "python",
   "name": "python3"
  },
  "language_info": {
   "codemirror_mode": {
    "name": "ipython",
    "version": 3
   },
   "file_extension": ".py",
   "mimetype": "text/x-python",
   "name": "python",
   "nbconvert_exporter": "python",
   "pygments_lexer": "ipython3",
   "version": "3.9.7"
  }
 },
 "nbformat": 4,
 "nbformat_minor": 5
}
